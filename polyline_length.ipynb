{
 "cells": [
  {
   "cell_type": "code",
   "execution_count": 64,
   "id": "ad5ea6b4-24ad-4ddb-8b2d-d950b975e8fa",
   "metadata": {},
   "outputs": [
    {
     "name": "stdin",
     "output_type": "stream",
     "text": [
      "Enter the number of points on the plane:  5\n"
     ]
    },
    {
     "name": "stdout",
     "output_type": "stream",
     "text": [
      "\n",
      "Points:  [[9, 9], [3, 7], [8, 1], [8, 5], [2, 8]]\n",
      "Initial point drawn:  [3, 7]\n",
      "Sequence points: [[3, 7], [2, 8], [8, 5], [8, 1], [9, 9]]\n",
      "Polyline length:  20.18\n"
     ]
    }
   ],
   "source": [
    "import numpy as np\n",
    "import random\n",
    "from sklearn.metrics.pairwise import euclidean_distances\n",
    "\n",
    "\n",
    "def calculate_polyline_length():\n",
    "    n = int(input(\"Enter the number of points on the plane: \"))\n",
    "    print()\n",
    "    points = []\n",
    "    result = 0\n",
    "\n",
    "    for i in range(n):\n",
    "        points.append([random.randint(0, 9), random.randint(0, 9)])\n",
    "\n",
    "    print(\"Points: \", points)\n",
    "    point_index = random.randint(0, n - 1)\n",
    "    point = points[point_index]\n",
    "    print(\"Initial point drawn: \",  point)\n",
    "    sequence_points = [point]\n",
    "\n",
    "    while len(points) > 1:\n",
    "        points.remove(point)\n",
    "        distances = euclidean_distances([point], points)\n",
    "        min_distance = min(distances[0])\n",
    "        result = result + min_distance\n",
    "        index = np.where(distances[0] == min_distance)\n",
    "        point = points[index[0][0]]\n",
    "        sequence_points.append(point)\n",
    "\n",
    "    print(\"Sequence points:\", sequence_points)\n",
    "    print(\"Polyline length: \", round(result, 2))\n",
    "\n",
    "    \n",
    "if __name__ == '__main__':\n",
    "    calculate_polyline_length()"
   ]
  },
  {
   "cell_type": "code",
   "execution_count": null,
   "id": "fcaf3c59-95a0-43e0-b228-0ac1ad4b9485",
   "metadata": {},
   "outputs": [],
   "source": []
  }
 ],
 "metadata": {
  "kernelspec": {
   "display_name": "Python 3",
   "language": "python",
   "name": "python3"
  },
  "language_info": {
   "codemirror_mode": {
    "name": "ipython",
    "version": 3
   },
   "file_extension": ".py",
   "mimetype": "text/x-python",
   "name": "python",
   "nbconvert_exporter": "python",
   "pygments_lexer": "ipython3",
   "version": "3.8.8"
  }
 },
 "nbformat": 4,
 "nbformat_minor": 5
}
